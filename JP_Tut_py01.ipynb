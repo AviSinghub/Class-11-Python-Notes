{
  "nbformat": 4,
  "nbformat_minor": 0,
  "metadata": {
    "colab": {
      "provenance": [],
      "authorship_tag": "ABX9TyOJPCNPG6MoHbYWR20cIDT9",
      "include_colab_link": true
    },
    "kernelspec": {
      "name": "python3",
      "display_name": "Python 3"
    },
    "language_info": {
      "name": "python"
    }
  },
  "cells": [
    {
      "cell_type": "markdown",
      "metadata": {
        "id": "view-in-github",
        "colab_type": "text"
      },
      "source": [
        "<a href=\"https://colab.research.google.com/github/AviSinghub/Class-11-Python-Notes/blob/main/JP_Tut_py01.ipynb\" target=\"_parent\"><img src=\"https://colab.research.google.com/assets/colab-badge.svg\" alt=\"Open In Colab\"/></a>"
      ]
    },
    {
      "cell_type": "code",
      "execution_count": null,
      "metadata": {
        "colab": {
          "base_uri": "https://localhost:8080/"
        },
        "id": "12_GbVHyUJpU",
        "outputId": "d4e90fc8-92b1-4f57-b8f5-4290b6d18546"
      },
      "outputs": [
        {
          "output_type": "stream",
          "name": "stdout",
          "text": [
            "3\n"
          ]
        }
      ],
      "source": [
        "a = 1\n",
        "d = 2\n",
        "print (a+d)"
      ]
    },
    {
      "cell_type": "code",
      "source": [
        "# this an if else condition yeh mera code hai.\n",
        "a = 15\n",
        "b = a-10\n",
        "print(a+3)\n",
        "if b>5 : # colon laganese block end hota hai.\n",
        "  print(\"Value of'a was more than 15 initially.\")\n",
        "else:\n",
        "    print (\"value of 'a' was 15 or less initially.\")"
      ],
      "metadata": {
        "colab": {
          "base_uri": "https://localhost:8080/"
        },
        "id": "G_IW7EFAVm6K",
        "outputId": "edcc40dd-e52a-42be-e5fa-682a0e4cb059"
      },
      "execution_count": null,
      "outputs": [
        {
          "output_type": "stream",
          "name": "stdout",
          "text": [
            "18\n",
            "value of 'a' was 15 or less initially.\n"
          ]
        }
      ]
    },
    {
      "cell_type": "code",
      "source": [
        "a = 2\n",
        "b = 7\n",
        "print(a+b)\n",
        "if a>b :\n",
        "  print(\" 'a' is a greater  number than 'b'.\")\n",
        "else :\n",
        "  print(\"'a' is smaller than 'b' number .\")"
      ],
      "metadata": {
        "colab": {
          "base_uri": "https://localhost:8080/"
        },
        "id": "siWk4fY5Z7w3",
        "outputId": "860a01cb-71e8-47c8-cf7f-b812ac236fd0"
      },
      "execution_count": 2,
      "outputs": [
        {
          "output_type": "stream",
          "name": "stdout",
          "text": [
            "9\n",
            "'a' is smaller than 'b' number .\n"
          ]
        }
      ]
    },
    {
      "cell_type": "code",
      "source": [
        "print(\"hello\")"
      ],
      "metadata": {
        "id": "4dOmPW10c5zo"
      },
      "execution_count": null,
      "outputs": []
    },
    {
      "cell_type": "markdown",
      "source": [],
      "metadata": {
        "id": "f0yYVKFFdcvA"
      }
    },
    {
      "cell_type": "code",
      "source": [
        "#list \n",
        "#list ka syntax a = [1,2,6]\n",
        "a = [ 12,56,40,41,66,23,78,87]\n",
        "print(a)\n",
        "a[7]"
      ],
      "metadata": {
        "colab": {
          "base_uri": "https://localhost:8080/"
        },
        "id": "JMFtcqAIgryl",
        "outputId": "6dc9a142-c336-4637-f2c4-039b8e669b95"
      },
      "execution_count": null,
      "outputs": [
        {
          "output_type": "stream",
          "name": "stdout",
          "text": [
            "[12, 56, 40, 41, 66, 23, 78, 87]\n"
          ]
        },
        {
          "output_type": "execute_result",
          "data": {
            "text/plain": [
              "87"
            ]
          },
          "metadata": {},
          "execution_count": 32
        }
      ]
    },
    {
      "cell_type": "code",
      "source": [
        "#list for string\n",
        "b = ['as','fg', 'mn']\n",
        "print(b)\n",
        "b[2]"
      ],
      "metadata": {
        "colab": {
          "base_uri": "https://localhost:8080/",
          "height": 35
        },
        "id": "CCa2CEIljX_l",
        "outputId": "85bb4e17-8411-4a0e-ca6a-a37395499181"
      },
      "execution_count": null,
      "outputs": [
        {
          "output_type": "execute_result",
          "data": {
            "text/plain": [
              "'mn'"
            ],
            "application/vnd.google.colaboratory.intrinsic+json": {
              "type": "string"
            }
          },
          "metadata": {},
          "execution_count": 35
        }
      ]
    },
    {
      "cell_type": "code",
      "source": [
        "l=['dy','dm','og','gf']\n",
        "print(l)\n",
        "l[3]"
      ],
      "metadata": {
        "colab": {
          "base_uri": "https://localhost:8080/",
          "height": 53
        },
        "id": "of5wdpNFkChr",
        "outputId": "05c39571-c024-4d99-b164-3d41295874d5"
      },
      "execution_count": null,
      "outputs": [
        {
          "output_type": "stream",
          "name": "stdout",
          "text": [
            "['dy', 'dm', 'og', 'gf']\n"
          ]
        },
        {
          "output_type": "execute_result",
          "data": {
            "text/plain": [
              "'gf'"
            ],
            "application/vnd.google.colaboratory.intrinsic+json": {
              "type": "string"
            }
          },
          "metadata": {},
          "execution_count": 37
        }
      ]
    },
    {
      "cell_type": "code",
      "source": [
        "d = [12,'hs', 45.012]\n",
        "print(d)\n",
        "d[2]"
      ],
      "metadata": {
        "colab": {
          "base_uri": "https://localhost:8080/"
        },
        "id": "ldsIc5BPk9S8",
        "outputId": "d0767f82-45c6-4450-d698-9a191f72909e"
      },
      "execution_count": null,
      "outputs": [
        {
          "output_type": "stream",
          "name": "stdout",
          "text": [
            "[12, 'hs', 45.012]\n"
          ]
        },
        {
          "output_type": "execute_result",
          "data": {
            "text/plain": [
              "45.012"
            ]
          },
          "metadata": {},
          "execution_count": 41
        }
      ]
    },
    {
      "cell_type": "code",
      "source": [
        "#tuple \n",
        "# tuple mai a =(1,2,3)\n",
        "a = (1,5,6,9,10)\n",
        "print(type(a))\n",
        "a[2]"
      ],
      "metadata": {
        "colab": {
          "base_uri": "https://localhost:8080/"
        },
        "id": "wtZB_N6SlhLO",
        "outputId": "68f9ee2a-efa7-4030-8bfe-160f66d44778"
      },
      "execution_count": null,
      "outputs": [
        {
          "output_type": "stream",
          "name": "stdout",
          "text": [
            "<class 'tuple'>\n"
          ]
        },
        {
          "output_type": "execute_result",
          "data": {
            "text/plain": [
              "6"
            ]
          },
          "metadata": {},
          "execution_count": 45
        }
      ]
    },
    {
      "cell_type": "code",
      "source": [
        "#dictonary \n",
        "#dictonary ka syntax //  var = {String:integer or foat, string: integer}\n",
        "Marks = {'maths':50,'ip': 85,'english':76}\n",
        "print(Marks)\n",
        "Marks['maths']"
      ],
      "metadata": {
        "colab": {
          "base_uri": "https://localhost:8080/"
        },
        "id": "IskD4SSomt6d",
        "outputId": "35d3a2a9-ceb6-4ee3-8076-9e45e6b9f626"
      },
      "execution_count": null,
      "outputs": [
        {
          "output_type": "stream",
          "name": "stdout",
          "text": [
            "{'maths': 50, 'ip': 85, 'english': 76}\n"
          ]
        },
        {
          "output_type": "execute_result",
          "data": {
            "text/plain": [
              "50"
            ]
          },
          "metadata": {},
          "execution_count": 49
        }
      ]
    }
  ]
}